{
  "nbformat": 4,
  "nbformat_minor": 0,
  "metadata": {
    "colab": {
      "name": "Advertising-iOS CoreML.ipynb",
      "provenance": [],
      "mount_file_id": "1LOt_xxTgiCne_MyCjE1LegRDlV17i7PO",
      "authorship_tag": "ABX9TyPdetjg0qXijxez/JGhnLe4",
      "include_colab_link": true
    },
    "kernelspec": {
      "name": "python3",
      "display_name": "Python 3"
    }
  },
  "cells": [
    {
      "cell_type": "markdown",
      "metadata": {
        "id": "view-in-github",
        "colab_type": "text"
      },
      "source": [
        "<a href=\"https://colab.research.google.com/github/chiru92/Practice-of-CoreML/blob/master/Advertising_iOS_CoreML.ipynb\" target=\"_parent\"><img src=\"https://colab.research.google.com/assets/colab-badge.svg\" alt=\"Open In Colab\"/></a>"
      ]
    },
    {
      "cell_type": "code",
      "metadata": {
        "id": "sjDqZ5ejAtJj",
        "colab_type": "code",
        "colab": {
          "base_uri": "https://localhost:8080/",
          "height": 122
        },
        "outputId": "0580fb9d-d3a4-44cd-9fb2-fe6b921c3419"
      },
      "source": [
        "!pip install -U coremltools"
      ],
      "execution_count": 7,
      "outputs": [
        {
          "output_type": "stream",
          "text": [
            "Requirement already up-to-date: coremltools in /usr/local/lib/python3.6/dist-packages (3.4)\n",
            "Requirement already satisfied, skipping upgrade: six>=1.10.0 in /usr/local/lib/python3.6/dist-packages (from coremltools) (1.15.0)\n",
            "Requirement already satisfied, skipping upgrade: protobuf>=3.1.0 in /usr/local/lib/python3.6/dist-packages (from coremltools) (3.12.4)\n",
            "Requirement already satisfied, skipping upgrade: numpy>=1.14.5 in /usr/local/lib/python3.6/dist-packages (from coremltools) (1.18.5)\n",
            "Requirement already satisfied, skipping upgrade: setuptools in /usr/local/lib/python3.6/dist-packages (from protobuf>=3.1.0->coremltools) (49.6.0)\n"
          ],
          "name": "stdout"
        }
      ]
    },
    {
      "cell_type": "code",
      "metadata": {
        "id": "55wwsyy-C9XE",
        "colab_type": "code",
        "colab": {}
      },
      "source": [
        "import pandas as pd"
      ],
      "execution_count": 9,
      "outputs": []
    },
    {
      "cell_type": "code",
      "metadata": {
        "id": "cou5Axq7Co9R",
        "colab_type": "code",
        "colab": {}
      },
      "source": [
        "adver = pd.read_csv(\"/content/drive/My Drive/Colab Notebooks/Advertising.csv\", usecols=[1, 2, 3, 4])"
      ],
      "execution_count": 16,
      "outputs": []
    },
    {
      "cell_type": "code",
      "metadata": {
        "id": "N1Hb27x2C7pY",
        "colab_type": "code",
        "colab": {
          "base_uri": "https://localhost:8080/",
          "height": 204
        },
        "outputId": "8773c1d5-bd46-494b-8c54-90615b790146"
      },
      "source": [
        "adver.head()"
      ],
      "execution_count": 17,
      "outputs": [
        {
          "output_type": "execute_result",
          "data": {
            "text/html": [
              "<div>\n",
              "<style scoped>\n",
              "    .dataframe tbody tr th:only-of-type {\n",
              "        vertical-align: middle;\n",
              "    }\n",
              "\n",
              "    .dataframe tbody tr th {\n",
              "        vertical-align: top;\n",
              "    }\n",
              "\n",
              "    .dataframe thead th {\n",
              "        text-align: right;\n",
              "    }\n",
              "</style>\n",
              "<table border=\"1\" class=\"dataframe\">\n",
              "  <thead>\n",
              "    <tr style=\"text-align: right;\">\n",
              "      <th></th>\n",
              "      <th>TV</th>\n",
              "      <th>radio</th>\n",
              "      <th>newspaper</th>\n",
              "      <th>sales</th>\n",
              "    </tr>\n",
              "  </thead>\n",
              "  <tbody>\n",
              "    <tr>\n",
              "      <th>0</th>\n",
              "      <td>230.1</td>\n",
              "      <td>37.8</td>\n",
              "      <td>69.2</td>\n",
              "      <td>22.1</td>\n",
              "    </tr>\n",
              "    <tr>\n",
              "      <th>1</th>\n",
              "      <td>44.5</td>\n",
              "      <td>39.3</td>\n",
              "      <td>45.1</td>\n",
              "      <td>10.4</td>\n",
              "    </tr>\n",
              "    <tr>\n",
              "      <th>2</th>\n",
              "      <td>17.2</td>\n",
              "      <td>45.9</td>\n",
              "      <td>69.3</td>\n",
              "      <td>9.3</td>\n",
              "    </tr>\n",
              "    <tr>\n",
              "      <th>3</th>\n",
              "      <td>151.5</td>\n",
              "      <td>41.3</td>\n",
              "      <td>58.5</td>\n",
              "      <td>18.5</td>\n",
              "    </tr>\n",
              "    <tr>\n",
              "      <th>4</th>\n",
              "      <td>180.8</td>\n",
              "      <td>10.8</td>\n",
              "      <td>58.4</td>\n",
              "      <td>12.9</td>\n",
              "    </tr>\n",
              "  </tbody>\n",
              "</table>\n",
              "</div>"
            ],
            "text/plain": [
              "      TV  radio  newspaper  sales\n",
              "0  230.1   37.8       69.2   22.1\n",
              "1   44.5   39.3       45.1   10.4\n",
              "2   17.2   45.9       69.3    9.3\n",
              "3  151.5   41.3       58.5   18.5\n",
              "4  180.8   10.8       58.4   12.9"
            ]
          },
          "metadata": {
            "tags": []
          },
          "execution_count": 17
        }
      ]
    },
    {
      "cell_type": "code",
      "metadata": {
        "id": "UGcyKxP_DOjP",
        "colab_type": "code",
        "colab": {}
      },
      "source": [
        "X, y = adver.iloc[:, :-1], adver.iloc[:, -1]"
      ],
      "execution_count": 18,
      "outputs": []
    },
    {
      "cell_type": "markdown",
      "metadata": {
        "id": "vRgzpnlJGsdb",
        "colab_type": "text"
      },
      "source": [
        "#**Splitting Data for ML**"
      ]
    },
    {
      "cell_type": "code",
      "metadata": {
        "id": "2MhY3N6OGbIt",
        "colab_type": "code",
        "colab": {}
      },
      "source": [
        "import sklearn.model_selection as ms"
      ],
      "execution_count": 19,
      "outputs": []
    },
    {
      "cell_type": "code",
      "metadata": {
        "id": "KVAUKFhMHC6_",
        "colab_type": "code",
        "colab": {}
      },
      "source": [
        "X_train, X_test, y_train, y_test = ms.train_test_split(X, y, test_size=0.25, random_state=42)"
      ],
      "execution_count": 20,
      "outputs": []
    },
    {
      "cell_type": "markdown",
      "metadata": {
        "id": "x42TLDP3JQyj",
        "colab_type": "text"
      },
      "source": [
        "#**Creating Linear Regression Model**"
      ]
    },
    {
      "cell_type": "code",
      "metadata": {
        "id": "ta_uFyT1Hbwx",
        "colab_type": "code",
        "colab": {}
      },
      "source": [
        "import sklearn.linear_model as lm"
      ],
      "execution_count": 21,
      "outputs": []
    },
    {
      "cell_type": "code",
      "metadata": {
        "id": "uDPQeYmPJZGE",
        "colab_type": "code",
        "colab": {}
      },
      "source": [
        "regr = lm.LinearRegression()"
      ],
      "execution_count": 22,
      "outputs": []
    },
    {
      "cell_type": "code",
      "metadata": {
        "id": "H28_gsvPJkxe",
        "colab_type": "code",
        "colab": {
          "base_uri": "https://localhost:8080/",
          "height": 34
        },
        "outputId": "3656a0ba-bcca-4e87-b9ce-4be88ae91977"
      },
      "source": [
        "regr.fit(X_train, y_train)\n",
        "regr.score(X_test, y_test)"
      ],
      "execution_count": 23,
      "outputs": [
        {
          "output_type": "execute_result",
          "data": {
            "text/plain": [
              "0.8935163320163657"
            ]
          },
          "metadata": {
            "tags": []
          },
          "execution_count": 23
        }
      ]
    },
    {
      "cell_type": "markdown",
      "metadata": {
        "id": "5Gid_kFuKRC5",
        "colab_type": "text"
      },
      "source": [
        "#**Predict sales for new input values**"
      ]
    },
    {
      "cell_type": "code",
      "metadata": {
        "id": "95kgLz5PJvsn",
        "colab_type": "code",
        "colab": {}
      },
      "source": [
        "X_new = [[ 50.0, 150.0, 150.0],\n",
        "         [250.0,  50.0,  50.0],\n",
        "         [100.0, 125.0, 125.0]]"
      ],
      "execution_count": 24,
      "outputs": []
    },
    {
      "cell_type": "code",
      "metadata": {
        "id": "7DcGiTuEKWH-",
        "colab_type": "code",
        "colab": {
          "base_uri": "https://localhost:8080/",
          "height": 34
        },
        "outputId": "7a8c5629-d260-45e9-c6f6-a80366b0cdfd"
      },
      "source": [
        "regr.predict(X_new)"
      ],
      "execution_count": 25,
      "outputs": [
        {
          "output_type": "execute_result",
          "data": {
            "text/plain": [
              "array([34.15367536, 23.83792444, 31.57473763])"
            ]
          },
          "metadata": {
            "tags": []
          },
          "execution_count": 25
        }
      ]
    },
    {
      "cell_type": "markdown",
      "metadata": {
        "id": "qcWpMrHwKwlL",
        "colab_type": "text"
      },
      "source": [
        "#**Training and Validating a Support Vector Machine Model**"
      ]
    },
    {
      "cell_type": "code",
      "metadata": {
        "id": "U6yA6h2EKay8",
        "colab_type": "code",
        "colab": {}
      },
      "source": [
        "import sklearn.svm as svm"
      ],
      "execution_count": 26,
      "outputs": []
    },
    {
      "cell_type": "code",
      "metadata": {
        "id": "IenjZvM6K8YS",
        "colab_type": "code",
        "colab": {}
      },
      "source": [
        "svr = svm.LinearSVR(random_state=42)"
      ],
      "execution_count": 27,
      "outputs": []
    },
    {
      "cell_type": "code",
      "metadata": {
        "id": "rM31-xg7LGSu",
        "colab_type": "code",
        "colab": {
          "base_uri": "https://localhost:8080/",
          "height": 88
        },
        "outputId": "d83fb4a5-3825-41ea-caba-dd77cb1361c6"
      },
      "source": [
        "svr.fit(X_train, y_train)\n",
        "svr.score(X_test, y_test)"
      ],
      "execution_count": 28,
      "outputs": [
        {
          "output_type": "stream",
          "text": [
            "/usr/local/lib/python3.6/dist-packages/sklearn/svm/_base.py:947: ConvergenceWarning: Liblinear failed to converge, increase the number of iterations.\n",
            "  \"the number of iterations.\", ConvergenceWarning)\n"
          ],
          "name": "stderr"
        },
        {
          "output_type": "execute_result",
          "data": {
            "text/plain": [
              "0.8185476335973368"
            ]
          },
          "metadata": {
            "tags": []
          },
          "execution_count": 28
        }
      ]
    },
    {
      "cell_type": "code",
      "metadata": {
        "id": "RRNZTy8oLNCu",
        "colab_type": "code",
        "colab": {
          "base_uri": "https://localhost:8080/",
          "height": 34
        },
        "outputId": "5b58625c-944d-41bf-f9f2-df8eb6aa405f"
      },
      "source": [
        "svr.predict(X_new)"
      ],
      "execution_count": 29,
      "outputs": [
        {
          "output_type": "execute_result",
          "data": {
            "text/plain": [
              "array([28.90830568, 24.77693452, 27.87546289])"
            ]
          },
          "metadata": {
            "tags": []
          },
          "execution_count": 29
        }
      ]
    },
    {
      "cell_type": "code",
      "metadata": {
        "id": "zD-koxOtLRUz",
        "colab_type": "code",
        "colab": {}
      },
      "source": [
        ""
      ],
      "execution_count": null,
      "outputs": []
    }
  ]
}